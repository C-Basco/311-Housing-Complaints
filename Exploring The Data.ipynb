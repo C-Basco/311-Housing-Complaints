{
 "cells": [
  {
   "cell_type": "markdown",
   "metadata": {},
   "source": [
    "# Problem Satement\n",
    "\n",
    "The goal is to help The Department of Housing and Development manage 311 complaints that are not necessarily urgent. Large volumes of complaints are impacting the overall operations of the agency.\n",
    "\n",
    "The agency is looking to manage the large volume of complaints by answering the following quastions:\n",
    "\n",
    "1. Which type of complaint should be focused on \n",
    "2. Are there any particular boroughs that should be focused on due to this type of complaint\n",
    "3. Does the complaint type have any obvious relationships with characteristics of the buildings\n",
    "4. can we build a predictive model to be built for future prediciton of the complaint type"
   ]
  },
  {
   "cell_type": "code",
   "execution_count": null,
   "metadata": {},
   "outputs": [],
   "source": [
    "#if Folium Libraries don't Load\n",
    "# \"\"\"!conda install -c conda-forge folium=0.11.0 --yes \"\"\""
   ]
  },
  {
   "cell_type": "code",
   "execution_count": null,
   "metadata": {},
   "outputs": [],
   "source": [
    "# !pip install plotly.express"
   ]
  },
  {
   "cell_type": "code",
   "execution_count": 1,
   "metadata": {},
   "outputs": [
    {
     "ename": "SyntaxError",
     "evalue": "invalid syntax (<ipython-input-1-57dd0c5068d9>, line 1)",
     "output_type": "error",
     "traceback": [
      "\u001b[1;36m  File \u001b[1;32m\"<ipython-input-1-57dd0c5068d9>\"\u001b[1;36m, line \u001b[1;32m1\u001b[0m\n\u001b[1;33m    $THEANO_FLAGS=mode=FAST_RUN,device=gpu0,floatX=float32 ipython notebook\u001b[0m\n\u001b[1;37m    ^\u001b[0m\n\u001b[1;31mSyntaxError\u001b[0m\u001b[1;31m:\u001b[0m invalid syntax\n"
     ]
    }
   ],
   "source": [
    "$THEANO_FLAGS=mode=FAST_RUN,device=gpu0,floatX=float32 ipython notebook"
   ]
  },
  {
   "cell_type": "code",
   "execution_count": 1,
   "metadata": {},
   "outputs": [],
   "source": [
    "import pandas as pd\n",
    "import json\n",
    "import math\n",
    "import plotly.express as px\n",
    "import numpy as np\n",
    "from sklearn import neighbors\n",
    "\n",
    "from folium import plugins\n",
    "\n",
    "from sklearn.cluster import KMeans\n",
    "from sklearn.decomposition import PCA\n",
    "\n",
    "import matplotlib.pyplot as plt\n",
    "import matplotlib.cm as cm\n",
    "import matplotlib.colors as colors\n",
    "\n",
    "import seaborn as sns"
   ]
  },
  {
   "cell_type": "markdown",
   "metadata": {},
   "source": [
    "## Load Data"
   ]
  },
  {
   "cell_type": "code",
   "execution_count": 4,
   "metadata": {},
   "outputs": [],
   "source": [
    "Orig_HBD = pd.read_csv(\"311_Service_Requests_from_2010_to_Present_min.csv\")"
   ]
  },
  {
   "cell_type": "code",
   "execution_count": 5,
   "metadata": {},
   "outputs": [
    {
     "data": {
      "text/plain": [
       "(6019843, 16)"
      ]
     },
     "execution_count": 5,
     "metadata": {},
     "output_type": "execute_result"
    }
   ],
   "source": [
    "Orig_HBD.shape"
   ]
  },
  {
   "cell_type": "markdown",
   "metadata": {},
   "source": [
    "We can see there is 6,019,843 samples and 16 features or columns"
   ]
  },
  {
   "cell_type": "markdown",
   "metadata": {},
   "source": [
    "### Column Descriptions\n",
    "\n",
    "**Uunique Key:** Uniques identifier of Service Requests(SR) in open dataset\n",
    "\n",
    "**Created Date:** Date SR was requested\n",
    "\n",
    "**Closed Date:** Date SR was closed by responding agency\n",
    "\n",
    "**Complaint Type:** This is the first lvl of hierarchy identifying the topic of the incident or condition. May have corresponding descriptor or not.\n",
    "\n",
    "**Location Type:** Describes the type of location used in the address information.\n",
    "\n",
    "**Incident Zip:** Zip code, provided by geo validation.\n",
    "\n",
    "**Incident Address:** House number of incident address provided by submitter.\n",
    "\n",
    "**Street Name:** Street name of incident.\n",
    "\n",
    "**Address Type:** The type of incident location information available.\n",
    "\n",
    "**City:** City of the incident.\n",
    "\n",
    "**Status:** Status of SR submitted.\n",
    "\n",
    "**Resolution Description:** Describes last action taken on the SR by the responding agency. May describe next or future steps.\n",
    "\n",
    "**Borough:** Self described.\n",
    "\n",
    "**Latitude:** Self described.\n",
    "\n",
    "**Longitiude:** Self described."
   ]
  },
  {
   "cell_type": "code",
   "execution_count": 6,
   "metadata": {},
   "outputs": [
    {
     "data": {
      "text/html": [
       "<div>\n",
       "<style scoped>\n",
       "    .dataframe tbody tr th:only-of-type {\n",
       "        vertical-align: middle;\n",
       "    }\n",
       "\n",
       "    .dataframe tbody tr th {\n",
       "        vertical-align: top;\n",
       "    }\n",
       "\n",
       "    .dataframe thead th {\n",
       "        text-align: right;\n",
       "    }\n",
       "</style>\n",
       "<table border=\"1\" class=\"dataframe\">\n",
       "  <thead>\n",
       "    <tr style=\"text-align: right;\">\n",
       "      <th></th>\n",
       "      <th>Unnamed: 0</th>\n",
       "      <th>Unique Key</th>\n",
       "      <th>Created Date</th>\n",
       "      <th>Closed Date</th>\n",
       "      <th>Complaint Type</th>\n",
       "      <th>Location Type</th>\n",
       "      <th>Incident Zip</th>\n",
       "      <th>Incident Address</th>\n",
       "      <th>Street Name</th>\n",
       "      <th>Address Type</th>\n",
       "      <th>City</th>\n",
       "      <th>Status</th>\n",
       "      <th>Resolution Description</th>\n",
       "      <th>Borough</th>\n",
       "      <th>Latitude</th>\n",
       "      <th>Longitude</th>\n",
       "    </tr>\n",
       "  </thead>\n",
       "  <tbody>\n",
       "    <tr>\n",
       "      <th>0</th>\n",
       "      <td>0</td>\n",
       "      <td>45531130</td>\n",
       "      <td>02/02/2020 06:09:17 AM</td>\n",
       "      <td>NaN</td>\n",
       "      <td>HEAT/HOT WATER</td>\n",
       "      <td>RESIDENTIAL BUILDING</td>\n",
       "      <td>10019.0</td>\n",
       "      <td>426 WEST   52 STREET</td>\n",
       "      <td>WEST   52 STREET</td>\n",
       "      <td>ADDRESS</td>\n",
       "      <td>NEW YORK</td>\n",
       "      <td>Open</td>\n",
       "      <td>The following complaint conditions are still o...</td>\n",
       "      <td>MANHATTAN</td>\n",
       "      <td>40.765132</td>\n",
       "      <td>-73.988993</td>\n",
       "    </tr>\n",
       "    <tr>\n",
       "      <th>1</th>\n",
       "      <td>1</td>\n",
       "      <td>45529784</td>\n",
       "      <td>02/02/2020 02:15:24 PM</td>\n",
       "      <td>NaN</td>\n",
       "      <td>UNSANITARY CONDITION</td>\n",
       "      <td>RESIDENTIAL BUILDING</td>\n",
       "      <td>11204.0</td>\n",
       "      <td>1751 67 STREET</td>\n",
       "      <td>67 STREET</td>\n",
       "      <td>ADDRESS</td>\n",
       "      <td>BROOKLYN</td>\n",
       "      <td>Open</td>\n",
       "      <td>The following complaint conditions are still o...</td>\n",
       "      <td>BROOKLYN</td>\n",
       "      <td>40.618484</td>\n",
       "      <td>-73.992673</td>\n",
       "    </tr>\n",
       "    <tr>\n",
       "      <th>2</th>\n",
       "      <td>2</td>\n",
       "      <td>45527528</td>\n",
       "      <td>02/02/2020 02:27:41 AM</td>\n",
       "      <td>NaN</td>\n",
       "      <td>HEAT/HOT WATER</td>\n",
       "      <td>RESIDENTIAL BUILDING</td>\n",
       "      <td>11372.0</td>\n",
       "      <td>87-15 37 AVENUE</td>\n",
       "      <td>37 AVENUE</td>\n",
       "      <td>ADDRESS</td>\n",
       "      <td>Jackson Heights</td>\n",
       "      <td>Open</td>\n",
       "      <td>The following complaint conditions are still o...</td>\n",
       "      <td>QUEENS</td>\n",
       "      <td>40.750269</td>\n",
       "      <td>-73.879432</td>\n",
       "    </tr>\n",
       "    <tr>\n",
       "      <th>3</th>\n",
       "      <td>3</td>\n",
       "      <td>45530329</td>\n",
       "      <td>02/02/2020 12:13:18 PM</td>\n",
       "      <td>NaN</td>\n",
       "      <td>HEAT/HOT WATER</td>\n",
       "      <td>RESIDENTIAL BUILDING</td>\n",
       "      <td>10458.0</td>\n",
       "      <td>2405 SOUTHERN BOULEVARD</td>\n",
       "      <td>SOUTHERN BOULEVARD</td>\n",
       "      <td>ADDRESS</td>\n",
       "      <td>BRONX</td>\n",
       "      <td>Open</td>\n",
       "      <td>The following complaint conditions are still o...</td>\n",
       "      <td>BRONX</td>\n",
       "      <td>40.853773</td>\n",
       "      <td>-73.881558</td>\n",
       "    </tr>\n",
       "    <tr>\n",
       "      <th>4</th>\n",
       "      <td>4</td>\n",
       "      <td>45528814</td>\n",
       "      <td>02/02/2020 01:59:44 PM</td>\n",
       "      <td>NaN</td>\n",
       "      <td>APPLIANCE</td>\n",
       "      <td>RESIDENTIAL BUILDING</td>\n",
       "      <td>11209.0</td>\n",
       "      <td>223 78 STREET</td>\n",
       "      <td>78 STREET</td>\n",
       "      <td>ADDRESS</td>\n",
       "      <td>BROOKLYN</td>\n",
       "      <td>Open</td>\n",
       "      <td>The following complaint conditions are still o...</td>\n",
       "      <td>BROOKLYN</td>\n",
       "      <td>40.629745</td>\n",
       "      <td>-74.030533</td>\n",
       "    </tr>\n",
       "  </tbody>\n",
       "</table>\n",
       "</div>"
      ],
      "text/plain": [
       "   Unnamed: 0  Unique Key            Created Date Closed Date  \\\n",
       "0           0    45531130  02/02/2020 06:09:17 AM         NaN   \n",
       "1           1    45529784  02/02/2020 02:15:24 PM         NaN   \n",
       "2           2    45527528  02/02/2020 02:27:41 AM         NaN   \n",
       "3           3    45530329  02/02/2020 12:13:18 PM         NaN   \n",
       "4           4    45528814  02/02/2020 01:59:44 PM         NaN   \n",
       "\n",
       "         Complaint Type         Location Type  Incident Zip  \\\n",
       "0        HEAT/HOT WATER  RESIDENTIAL BUILDING       10019.0   \n",
       "1  UNSANITARY CONDITION  RESIDENTIAL BUILDING       11204.0   \n",
       "2        HEAT/HOT WATER  RESIDENTIAL BUILDING       11372.0   \n",
       "3        HEAT/HOT WATER  RESIDENTIAL BUILDING       10458.0   \n",
       "4             APPLIANCE  RESIDENTIAL BUILDING       11209.0   \n",
       "\n",
       "          Incident Address         Street Name Address Type             City  \\\n",
       "0     426 WEST   52 STREET    WEST   52 STREET      ADDRESS         NEW YORK   \n",
       "1           1751 67 STREET           67 STREET      ADDRESS         BROOKLYN   \n",
       "2          87-15 37 AVENUE           37 AVENUE      ADDRESS  Jackson Heights   \n",
       "3  2405 SOUTHERN BOULEVARD  SOUTHERN BOULEVARD      ADDRESS            BRONX   \n",
       "4            223 78 STREET           78 STREET      ADDRESS         BROOKLYN   \n",
       "\n",
       "  Status                             Resolution Description    Borough  \\\n",
       "0   Open  The following complaint conditions are still o...  MANHATTAN   \n",
       "1   Open  The following complaint conditions are still o...   BROOKLYN   \n",
       "2   Open  The following complaint conditions are still o...     QUEENS   \n",
       "3   Open  The following complaint conditions are still o...      BRONX   \n",
       "4   Open  The following complaint conditions are still o...   BROOKLYN   \n",
       "\n",
       "    Latitude  Longitude  \n",
       "0  40.765132 -73.988993  \n",
       "1  40.618484 -73.992673  \n",
       "2  40.750269 -73.879432  \n",
       "3  40.853773 -73.881558  \n",
       "4  40.629745 -74.030533  "
      ]
     },
     "execution_count": 6,
     "metadata": {},
     "output_type": "execute_result"
    }
   ],
   "source": [
    "Orig_HBD.head()"
   ]
  },
  {
   "cell_type": "markdown",
   "metadata": {},
   "source": [
    "Off the bat we saee there are some missing data in the `Closed Date` column."
   ]
  },
  {
   "cell_type": "code",
   "execution_count": 21,
   "metadata": {},
   "outputs": [
    {
     "data": {
      "text/plain": [
       "Unnamed: 0                     0\n",
       "Unique Key                     0\n",
       "Created Date                   0\n",
       "Closed Date               126657\n",
       "Complaint Type                 0\n",
       "Location Type              52824\n",
       "Incident Zip               80697\n",
       "Incident Address           52825\n",
       "Street Name                52825\n",
       "Address Type               84765\n",
       "City                       80274\n",
       "Status                         0\n",
       "Resolution Description      7826\n",
       "Borough                        0\n",
       "Latitude                   80671\n",
       "Longitude                  80671\n",
       "dtype: int64"
      ]
     },
     "execution_count": 21,
     "metadata": {},
     "output_type": "execute_result"
    }
   ],
   "source": [
    "Na = Orig_HBD.isnull().sum()\n",
    "Na"
   ]
  },
  {
   "cell_type": "markdown",
   "metadata": {},
   "source": [
    "We will come back to the missing Data and right now focus on the two Features that are the focus of our attention: `Complaint Type` and `Borough` which have no missing data."
   ]
  },
  {
   "cell_type": "markdown",
   "metadata": {},
   "source": [
    "## Data PreProcessing and Selection"
   ]
  },
  {
   "cell_type": "markdown",
   "metadata": {},
   "source": [
    "I'm going to create another dataframe with the columns the will be usefull in determining the Answer to Question 1: Which Complaint Type should the Agency focus on first.\n",
    "\n",
    "But first I'm going to rename the columns for simplicity sake."
   ]
  },
  {
   "cell_type": "code",
   "execution_count": null,
   "metadata": {},
   "outputs": [],
   "source": [
    "HBD = Orig_HBD.rename(columns={'Complaint Type':'Complaint_Type', 'Incident Zip':'Incident_Zip',\n",
    "                               'Unique Key':'Unique_Key', 'Created Date':'Created_Date','Closed Date':'Closed_Date',\n",
    "                               'Location Type':'Location_Type','Address Type':'Address_Type', 'Street Name':'Street_Name'})\n",
    "HBD.head()"
   ]
  }
 ],
 "metadata": {
  "kernelspec": {
   "display_name": "Python 3",
   "language": "python",
   "name": "python3"
  },
  "language_info": {
   "codemirror_mode": {
    "name": "ipython",
    "version": 3
   },
   "file_extension": ".py",
   "mimetype": "text/x-python",
   "name": "python",
   "nbconvert_exporter": "python",
   "pygments_lexer": "ipython3",
   "version": "3.8.5"
  }
 },
 "nbformat": 4,
 "nbformat_minor": 4
}
